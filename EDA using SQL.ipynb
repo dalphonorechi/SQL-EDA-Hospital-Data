{
 "cells": [
  {
   "cell_type": "markdown",
   "id": "2c7e1d7b-1481-41a0-8670-588f9c5b4051",
   "metadata": {},
   "source": [
    "# Exploratory Data Analysis using SQL."
   ]
  },
  {
   "cell_type": "code",
   "execution_count": 45,
   "id": "b445642b-81c7-4f61-99a2-bd0a3a7e82a2",
   "metadata": {},
   "outputs": [],
   "source": [
    "# Visualization libraries\n",
    "import seaborn as sns\n",
    "import matplotlib.pyplot as plt"
   ]
  },
  {
   "cell_type": "code",
   "execution_count": 3,
   "id": "b64bf5ce-0d4c-4fd1-a083-f062ded3bc70",
   "metadata": {},
   "outputs": [],
   "source": [
    "#load sql library\n",
    "%load_ext sql\n",
    "\n",
    "#configure sql cell function to return pandas DataFrame.\n",
    "%config SqlMagic.autopandas = True\n",
    "\n",
    "#Connect to mysql server\n",
    "%sql mysql+pymysql://root@localhost/\n"
   ]
  },
  {
   "cell_type": "code",
   "execution_count": 4,
   "id": "cdc2ae77-b1b2-4619-a331-ee2feb731fad",
   "metadata": {},
   "outputs": [
    {
     "name": "stdout",
     "output_type": "stream",
     "text": [
      " * mysql+pymysql://root@localhost/\n",
      "1 rows affected.\n",
      "1 rows affected.\n",
      "0 rows affected.\n",
      "0 rows affected.\n"
     ]
    },
    {
     "data": {
      "text/html": [
       "<div>\n",
       "<style scoped>\n",
       "    .dataframe tbody tr th:only-of-type {\n",
       "        vertical-align: middle;\n",
       "    }\n",
       "\n",
       "    .dataframe tbody tr th {\n",
       "        vertical-align: top;\n",
       "    }\n",
       "\n",
       "    .dataframe thead th {\n",
       "        text-align: right;\n",
       "    }\n",
       "</style>\n",
       "<table border=\"1\" class=\"dataframe\">\n",
       "  <thead>\n",
       "    <tr style=\"text-align: right;\">\n",
       "      <th></th>\n",
       "    </tr>\n",
       "  </thead>\n",
       "  <tbody>\n",
       "  </tbody>\n",
       "</table>\n",
       "</div>"
      ],
      "text/plain": [
       "Empty DataFrame\n",
       "Columns: []\n",
       "Index: []"
      ]
     },
     "execution_count": 4,
     "metadata": {},
     "output_type": "execute_result"
    }
   ],
   "source": [
    "%%sql\n",
    "Drop database hospital;\n",
    "\n",
    "Create Database hospital;\n",
    "\n",
    "USE hospital;\n",
    "\n",
    "-- Create table to load our data into\n",
    "Create table hospital_er (\n",
    "date datetime,\n",
    "patient_id VARCHAR(255),\n",
    "patient_gender VARCHAR(255),\n",
    "patient_age INT,\n",
    "patient_sat_score INT,\n",
    "patient_first_inital VARCHAR(255),\n",
    "patient_last_name VARCHAR(255),\n",
    "patient_race VARCHAR(255),\n",
    "patient_admin_flag BOOLEAN,\n",
    "patient_waittime INT,\n",
    "department_referral VARCHAR(255)\n",
    ");"
   ]
  },
  {
   "cell_type": "code",
   "execution_count": 5,
   "id": "ae3f9047-7062-475b-bc9e-435c3c55c639",
   "metadata": {},
   "outputs": [
    {
     "name": "stdout",
     "output_type": "stream",
     "text": [
      " * mysql+pymysql://root@localhost/\n",
      "0 rows affected.\n",
      "9216 rows affected.\n"
     ]
    },
    {
     "data": {
      "text/html": [
       "<div>\n",
       "<style scoped>\n",
       "    .dataframe tbody tr th:only-of-type {\n",
       "        vertical-align: middle;\n",
       "    }\n",
       "\n",
       "    .dataframe tbody tr th {\n",
       "        vertical-align: top;\n",
       "    }\n",
       "\n",
       "    .dataframe thead th {\n",
       "        text-align: right;\n",
       "    }\n",
       "</style>\n",
       "<table border=\"1\" class=\"dataframe\">\n",
       "  <thead>\n",
       "    <tr style=\"text-align: right;\">\n",
       "      <th></th>\n",
       "    </tr>\n",
       "  </thead>\n",
       "  <tbody>\n",
       "  </tbody>\n",
       "</table>\n",
       "</div>"
      ],
      "text/plain": [
       "Empty DataFrame\n",
       "Columns: []\n",
       "Index: []"
      ]
     },
     "execution_count": 5,
     "metadata": {},
     "output_type": "execute_result"
    }
   ],
   "source": [
    "%%sql\n",
    "USE hospital;\n",
    "\n",
    "-- load data into our table from a csv file.\n",
    "\n",
    "LOAD DATA INFILE 'E:\\\\Datasets\\\\Hospital ER.csv'\n",
    "INTO TABLE hospital_er\n",
    "FIELDS TERMINATED BY ','\n",
    "LINES TERMINATED BY '\\n'\n",
    "IGNORE 1 LINES\n",
    "(\n",
    "date,\n",
    "patient_id,\n",
    "patient_gender,\n",
    "patient_age,\n",
    "patient_sat_score,\n",
    "patient_first_inital,\n",
    "patient_last_name,\n",
    "patient_race,\n",
    "@var1,\n",
    "patient_waittime,\n",
    "department_referral\n",
    ")\n",
    "SET patient_admin_flag = @var1='TRUE';"
   ]
  },
  {
   "cell_type": "code",
   "execution_count": 6,
   "id": "05933b8e-8a85-4f80-8bd1-84a3c41429f4",
   "metadata": {},
   "outputs": [
    {
     "name": "stdout",
     "output_type": "stream",
     "text": [
      " * mysql+pymysql://root@localhost/\n",
      "5 rows affected.\n"
     ]
    },
    {
     "data": {
      "text/html": [
       "<div>\n",
       "<style scoped>\n",
       "    .dataframe tbody tr th:only-of-type {\n",
       "        vertical-align: middle;\n",
       "    }\n",
       "\n",
       "    .dataframe tbody tr th {\n",
       "        vertical-align: top;\n",
       "    }\n",
       "\n",
       "    .dataframe thead th {\n",
       "        text-align: right;\n",
       "    }\n",
       "</style>\n",
       "<table border=\"1\" class=\"dataframe\">\n",
       "  <thead>\n",
       "    <tr style=\"text-align: right;\">\n",
       "      <th></th>\n",
       "      <th>date</th>\n",
       "      <th>patient_id</th>\n",
       "      <th>patient_gender</th>\n",
       "      <th>patient_age</th>\n",
       "      <th>patient_sat_score</th>\n",
       "      <th>patient_first_inital</th>\n",
       "      <th>patient_last_name</th>\n",
       "      <th>patient_race</th>\n",
       "      <th>patient_admin_flag</th>\n",
       "      <th>patient_waittime</th>\n",
       "      <th>department_referral</th>\n",
       "    </tr>\n",
       "  </thead>\n",
       "  <tbody>\n",
       "    <tr>\n",
       "      <th>0</th>\n",
       "      <td>2020-03-20 08:47:00</td>\n",
       "      <td>145-39-5406</td>\n",
       "      <td>M</td>\n",
       "      <td>69</td>\n",
       "      <td>10</td>\n",
       "      <td>H</td>\n",
       "      <td>Glasspool</td>\n",
       "      <td>White</td>\n",
       "      <td>0</td>\n",
       "      <td>39</td>\n",
       "      <td>None\\r</td>\n",
       "    </tr>\n",
       "    <tr>\n",
       "      <th>1</th>\n",
       "      <td>2020-06-15 11:29:00</td>\n",
       "      <td>316-34-3057</td>\n",
       "      <td>M</td>\n",
       "      <td>4</td>\n",
       "      <td>0</td>\n",
       "      <td>X</td>\n",
       "      <td>Methuen</td>\n",
       "      <td>Native American/Alaska Native</td>\n",
       "      <td>1</td>\n",
       "      <td>27</td>\n",
       "      <td>None\\r</td>\n",
       "    </tr>\n",
       "    <tr>\n",
       "      <th>2</th>\n",
       "      <td>2020-06-20 09:13:00</td>\n",
       "      <td>897-46-3852</td>\n",
       "      <td>F</td>\n",
       "      <td>56</td>\n",
       "      <td>9</td>\n",
       "      <td>P</td>\n",
       "      <td>Schubuser</td>\n",
       "      <td>African American</td>\n",
       "      <td>1</td>\n",
       "      <td>55</td>\n",
       "      <td>General Practice\\r</td>\n",
       "    </tr>\n",
       "    <tr>\n",
       "      <th>3</th>\n",
       "      <td>2020-02-04 22:34:00</td>\n",
       "      <td>358-31-9711</td>\n",
       "      <td>F</td>\n",
       "      <td>24</td>\n",
       "      <td>8</td>\n",
       "      <td>U</td>\n",
       "      <td>Titcombe</td>\n",
       "      <td>Native American/Alaska Native</td>\n",
       "      <td>1</td>\n",
       "      <td>31</td>\n",
       "      <td>General Practice\\r</td>\n",
       "    </tr>\n",
       "    <tr>\n",
       "      <th>4</th>\n",
       "      <td>2020-09-04 17:48:00</td>\n",
       "      <td>289-26-0537</td>\n",
       "      <td>M</td>\n",
       "      <td>5</td>\n",
       "      <td>0</td>\n",
       "      <td>Y</td>\n",
       "      <td>Gionettitti</td>\n",
       "      <td>African American</td>\n",
       "      <td>0</td>\n",
       "      <td>10</td>\n",
       "      <td>Orthopedics\\r</td>\n",
       "    </tr>\n",
       "  </tbody>\n",
       "</table>\n",
       "</div>"
      ],
      "text/plain": [
       "                 date   patient_id patient_gender  patient_age  \\\n",
       "0 2020-03-20 08:47:00  145-39-5406              M           69   \n",
       "1 2020-06-15 11:29:00  316-34-3057              M            4   \n",
       "2 2020-06-20 09:13:00  897-46-3852              F           56   \n",
       "3 2020-02-04 22:34:00  358-31-9711              F           24   \n",
       "4 2020-09-04 17:48:00  289-26-0537              M            5   \n",
       "\n",
       "   patient_sat_score patient_first_inital patient_last_name  \\\n",
       "0                 10                    H         Glasspool   \n",
       "1                  0                    X           Methuen   \n",
       "2                  9                    P         Schubuser   \n",
       "3                  8                    U          Titcombe   \n",
       "4                  0                    Y       Gionettitti   \n",
       "\n",
       "                    patient_race  patient_admin_flag  patient_waittime  \\\n",
       "0                          White                   0                39   \n",
       "1  Native American/Alaska Native                   1                27   \n",
       "2               African American                   1                55   \n",
       "3  Native American/Alaska Native                   1                31   \n",
       "4               African American                   0                10   \n",
       "\n",
       "  department_referral  \n",
       "0              None\\r  \n",
       "1              None\\r  \n",
       "2  General Practice\\r  \n",
       "3  General Practice\\r  \n",
       "4       Orthopedics\\r  "
      ]
     },
     "execution_count": 6,
     "metadata": {},
     "output_type": "execute_result"
    }
   ],
   "source": [
    "%%sql \n",
    "Select *\n",
    "FROM hospital_er\n",
    "LIMIT 5"
   ]
  },
  {
   "cell_type": "markdown",
   "id": "784fd554-6662-444e-afdb-de0d88801677",
   "metadata": {},
   "source": [
    "### Check Number of Columns"
   ]
  },
  {
   "cell_type": "code",
   "execution_count": 7,
   "id": "2e6f1893-19b7-474e-afc2-9f2d6b75aa34",
   "metadata": {},
   "outputs": [
    {
     "name": "stdout",
     "output_type": "stream",
     "text": [
      " * mysql+pymysql://root@localhost/\n",
      "0 rows affected.\n",
      "1 rows affected.\n"
     ]
    },
    {
     "data": {
      "text/html": [
       "<div>\n",
       "<style scoped>\n",
       "    .dataframe tbody tr th:only-of-type {\n",
       "        vertical-align: middle;\n",
       "    }\n",
       "\n",
       "    .dataframe tbody tr th {\n",
       "        vertical-align: top;\n",
       "    }\n",
       "\n",
       "    .dataframe thead th {\n",
       "        text-align: right;\n",
       "    }\n",
       "</style>\n",
       "<table border=\"1\" class=\"dataframe\">\n",
       "  <thead>\n",
       "    <tr style=\"text-align: right;\">\n",
       "      <th></th>\n",
       "      <th>column_number</th>\n",
       "    </tr>\n",
       "  </thead>\n",
       "  <tbody>\n",
       "    <tr>\n",
       "      <th>0</th>\n",
       "      <td>11</td>\n",
       "    </tr>\n",
       "  </tbody>\n",
       "</table>\n",
       "</div>"
      ],
      "text/plain": [
       "   column_number\n",
       "0             11"
      ]
     },
     "execution_count": 7,
     "metadata": {},
     "output_type": "execute_result"
    }
   ],
   "source": [
    "%%sql\n",
    "USE information_schema;\n",
    "SELECT count(*) AS column_number\n",
    "FROM columns\n",
    "Where table_name='hospital_er';"
   ]
  },
  {
   "cell_type": "markdown",
   "id": "79db15a8-959d-4bd2-af50-b64fa7022bd7",
   "metadata": {},
   "source": [
    "### Check Number of rows"
   ]
  },
  {
   "cell_type": "code",
   "execution_count": 8,
   "id": "ecb9e809-c113-4a11-9d54-940b9ad8d47d",
   "metadata": {},
   "outputs": [
    {
     "name": "stdout",
     "output_type": "stream",
     "text": [
      " * mysql+pymysql://root@localhost/\n",
      "0 rows affected.\n",
      "1 rows affected.\n"
     ]
    },
    {
     "data": {
      "text/html": [
       "<div>\n",
       "<style scoped>\n",
       "    .dataframe tbody tr th:only-of-type {\n",
       "        vertical-align: middle;\n",
       "    }\n",
       "\n",
       "    .dataframe tbody tr th {\n",
       "        vertical-align: top;\n",
       "    }\n",
       "\n",
       "    .dataframe thead th {\n",
       "        text-align: right;\n",
       "    }\n",
       "</style>\n",
       "<table border=\"1\" class=\"dataframe\">\n",
       "  <thead>\n",
       "    <tr style=\"text-align: right;\">\n",
       "      <th></th>\n",
       "      <th>row_number</th>\n",
       "    </tr>\n",
       "  </thead>\n",
       "  <tbody>\n",
       "    <tr>\n",
       "      <th>0</th>\n",
       "      <td>9216</td>\n",
       "    </tr>\n",
       "  </tbody>\n",
       "</table>\n",
       "</div>"
      ],
      "text/plain": [
       "   row_number\n",
       "0        9216"
      ]
     },
     "execution_count": 8,
     "metadata": {},
     "output_type": "execute_result"
    }
   ],
   "source": [
    "%%sql\n",
    "USE hospital;\n",
    "Select Count(*) AS row_number\n",
    "FROM hospital_er"
   ]
  },
  {
   "cell_type": "markdown",
   "id": "0c3a1d72-b5d0-4699-92af-1f9eb0d5083c",
   "metadata": {},
   "source": [
    "## Check for Duplicates"
   ]
  },
  {
   "cell_type": "code",
   "execution_count": 9,
   "id": "d86d4d8a-9932-46bc-9728-f50859cfeb7d",
   "metadata": {},
   "outputs": [
    {
     "name": "stdout",
     "output_type": "stream",
     "text": [
      " * mysql+pymysql://root@localhost/\n",
      "0 rows affected.\n"
     ]
    },
    {
     "data": {
      "text/html": [
       "<div>\n",
       "<style scoped>\n",
       "    .dataframe tbody tr th:only-of-type {\n",
       "        vertical-align: middle;\n",
       "    }\n",
       "\n",
       "    .dataframe tbody tr th {\n",
       "        vertical-align: top;\n",
       "    }\n",
       "\n",
       "    .dataframe thead th {\n",
       "        text-align: right;\n",
       "    }\n",
       "</style>\n",
       "<table border=\"1\" class=\"dataframe\">\n",
       "  <thead>\n",
       "    <tr style=\"text-align: right;\">\n",
       "      <th></th>\n",
       "    </tr>\n",
       "  </thead>\n",
       "  <tbody>\n",
       "  </tbody>\n",
       "</table>\n",
       "</div>"
      ],
      "text/plain": [
       "Empty DataFrame\n",
       "Columns: []\n",
       "Index: []"
      ]
     },
     "execution_count": 9,
     "metadata": {},
     "output_type": "execute_result"
    }
   ],
   "source": [
    "%%sql \n",
    "Select count(date) AS duplicates\n",
    "from hospital_er\n",
    "group by date, patient_id\n",
    "having count(date) > 1"
   ]
  },
  {
   "cell_type": "markdown",
   "id": "6d5bd923-0b51-4dea-8d87-87b71cd41f14",
   "metadata": {},
   "source": [
    "## Patient count by gender"
   ]
  },
  {
   "cell_type": "code",
   "execution_count": 34,
   "id": "74e82f39-f807-49a4-aba7-f6df8498f7ad",
   "metadata": {},
   "outputs": [
    {
     "name": "stdout",
     "output_type": "stream",
     "text": [
      " * mysql+pymysql://root@localhost/\n",
      "3 rows affected.\n"
     ]
    },
    {
     "data": {
      "image/png": "[encoded data removed]",
      "text/plain": [
       "<Figure size 432x288 with 1 Axes>"
      ]
     },
     "metadata": {
      "needs_background": "light"
     },
     "output_type": "display_data"
    }
   ],
   "source": [
    "df = %sql Select patient_gender AS Gender, count(patient_gender) AS Count, \\\n",
    "(count(patient_gender) / (Select count(*) from hospital_er) * 100) AS '%' \\\n",
    "from hospital_er \\\n",
    "Group by patient_gender\n",
    "\n",
    "ax = sns.barplot(data=df, x='Gender',y='Count')\n",
    "\n",
    "for i in ax.containers:\n",
    "    ax.bar_label(i,)"
   ]
  },
  {
   "cell_type": "markdown",
   "id": "a998fec2-5db1-48b6-abfd-8731c7a81e49",
   "metadata": {},
   "source": [
    "## Patient count by Race"
   ]
  },
  {
   "cell_type": "code",
   "execution_count": 44,
   "id": "4d754414-43ad-4f23-b7c5-c5a0867b14fd",
   "metadata": {},
   "outputs": [
    {
     "name": "stdout",
     "output_type": "stream",
     "text": [
      " * mysql+pymysql://root@localhost/\n",
      "7 rows affected.\n"
     ]
    },
    {
     "data": {
      "image/png": "[encoded data removed]",
      "text/plain": [
       "<Figure size 432x288 with 1 Axes>"
      ]
     },
     "metadata": {
      "needs_background": "light"
     },
     "output_type": "display_data"
    }
   ],
   "source": [
    "df = %sql Select patient_race as Race, \\\n",
    "count(patient_race) AS Count, \\\n",
    "(count(patient_race) / (Select count(*) from hospital_er) * 100) AS '%' \\\n",
    "from hospital_er \\\n",
    "Group by patient_race \\\n",
    "order by 2 desc\n",
    "\n",
    "ax = sns.barplot(data=df, x='Race',y='Count')\n",
    "plt.xticks(rotation=90);"
   ]
  },
  {
   "cell_type": "markdown",
   "id": "2db7e4de-36a4-42eb-a9ec-349b6192bda8",
   "metadata": {},
   "source": [
    "### Referrals by Department."
   ]
  },
  {
   "cell_type": "code",
   "execution_count": 46,
   "id": "efd60a9f-7f5b-45c3-a229-b4470fee2fd0",
   "metadata": {},
   "outputs": [
    {
     "name": "stdout",
     "output_type": "stream",
     "text": [
      " * mysql+pymysql://root@localhost/\n",
      "8 rows affected.\n"
     ]
    },
    {
     "data": {
      "image/png": "[encoded data removed]",
      "text/plain": [
       "<Figure size 432x288 with 1 Axes>"
      ]
     },
     "metadata": {
      "needs_background": "light"
     },
     "output_type": "display_data"
    }
   ],
   "source": [
    "df = %sql Select Replace(department_referral,'\\r', '') as Referral, \\\n",
    "count(department_referral) AS Count, \\\n",
    "(count(department_referral) / (Select count(*) from hospital_er) * 100) AS '%' \\\n",
    "from hospital_er \\\n",
    "Group by department_referral \\\n",
    "order by 2 desc\n",
    "\n",
    "ax = sns.barplot(data=df, x='Referral',y='Count')\n",
    "\n",
    "for i in ax.containers:\n",
    "    ax.bar_label(i,)\n",
    "    \n",
    "plt.xticks(rotation=90);"
   ]
  },
  {
   "cell_type": "markdown",
   "id": "cdea16e7-a715-48d9-9140-a5d5fd5b4fa5",
   "metadata": {},
   "source": [
    "## Patient Waiting Time"
   ]
  },
  {
   "cell_type": "code",
   "execution_count": 13,
   "id": "e64c19b1-8705-4347-8039-16e83d742581",
   "metadata": {},
   "outputs": [
    {
     "name": "stdout",
     "output_type": "stream",
     "text": [
      " * mysql+pymysql://root@localhost/\n",
      "1 rows affected.\n"
     ]
    },
    {
     "data": {
      "text/html": [
       "<div>\n",
       "<style scoped>\n",
       "    .dataframe tbody tr th:only-of-type {\n",
       "        vertical-align: middle;\n",
       "    }\n",
       "\n",
       "    .dataframe tbody tr th {\n",
       "        vertical-align: top;\n",
       "    }\n",
       "\n",
       "    .dataframe thead th {\n",
       "        text-align: right;\n",
       "    }\n",
       "</style>\n",
       "<table border=\"1\" class=\"dataframe\">\n",
       "  <thead>\n",
       "    <tr style=\"text-align: right;\">\n",
       "      <th></th>\n",
       "      <th>MaximumWaitTime</th>\n",
       "      <th>MinimumWaitTime</th>\n",
       "      <th>AverageWaitTime</th>\n",
       "    </tr>\n",
       "  </thead>\n",
       "  <tbody>\n",
       "    <tr>\n",
       "      <th>0</th>\n",
       "      <td>60</td>\n",
       "      <td>10</td>\n",
       "      <td>35.2599</td>\n",
       "    </tr>\n",
       "  </tbody>\n",
       "</table>\n",
       "</div>"
      ],
      "text/plain": [
       "   MaximumWaitTime  MinimumWaitTime AverageWaitTime\n",
       "0               60               10         35.2599"
      ]
     },
     "execution_count": 13,
     "metadata": {},
     "output_type": "execute_result"
    }
   ],
   "source": [
    "%%sql\n",
    "select max(patient_waittime) MaximumWaitTime, \n",
    "min(patient_waittime) MinimumWaitTime, \n",
    "avg(patient_waittime) AverageWaitTime\n",
    "from hospital_er"
   ]
  },
  {
   "cell_type": "markdown",
   "id": "6d44bf4d-450e-4795-b3fd-2fe2116b87ff",
   "metadata": {},
   "source": [
    "## Visit Count Distrubution by Month"
   ]
  },
  {
   "cell_type": "code",
   "execution_count": 42,
   "id": "9bf87108-5e28-4754-93e6-56dd459cea57",
   "metadata": {},
   "outputs": [
    {
     "name": "stdout",
     "output_type": "stream",
     "text": [
      " * mysql+pymysql://root@localhost/\n",
      "12 rows affected.\n"
     ]
    },
    {
     "data": {
      "image/png": "[encoded data removed]",
      "text/plain": [
       "<Figure size 432x288 with 1 Axes>"
      ]
     },
     "metadata": {
      "needs_background": "light"
     },
     "output_type": "display_data"
    }
   ],
   "source": [
    "df = %sql select monthname(date) as Month, \\\n",
    "count(patient_id) AS Count \\\n",
    "from hospital_er \\\n",
    "group by monthname(date) \\\n",
    "order by 1, 2 desc\n",
    "\n",
    "ax = sns.barplot(data=df, x='Month',y='Count')\n",
    "plt.xticks(rotation=45);"
   ]
  },
  {
   "cell_type": "markdown",
   "id": "40b994b4-7db8-4de3-bd7b-8ca6cf52cbf5",
   "metadata": {},
   "source": [
    "## Visit Count Distrubution by Day"
   ]
  },
  {
   "cell_type": "code",
   "execution_count": 37,
   "id": "223c58dd-ecf9-4a10-9cda-3fc64cab83ea",
   "metadata": {},
   "outputs": [
    {
     "name": "stdout",
     "output_type": "stream",
     "text": [
      " * mysql+pymysql://root@localhost/\n",
      "7 rows affected.\n"
     ]
    },
    {
     "data": {
      "image/png": "[encoded data removed]",
      "text/plain": [
       "<Figure size 432x288 with 1 Axes>"
      ]
     },
     "metadata": {
      "needs_background": "light"
     },
     "output_type": "display_data"
    }
   ],
   "source": [
    "df = %sql select dayname(date) as Day, \\\n",
    "Count(patient_id) AS Count \\\n",
    "from hospital_er \\\n",
    "group by dayname(date) \\\n",
    "order by 2 desc;\n",
    "\n",
    "ax = sns.barplot(data=df, x='Day',y='Count')\n",
    "for i in ax.containers:\n",
    "    ax.bar_label(i,)\n",
    "plt.xticks(rotation=45);"
   ]
  },
  {
   "cell_type": "markdown",
   "id": "bc36188a-ddf8-4fca-9c3a-0cb6e822b0f7",
   "metadata": {},
   "source": [
    "## Visit Count Distrubution by Hour of the Day"
   ]
  },
  {
   "cell_type": "code",
   "execution_count": 43,
   "id": "bc84d0fe-8831-4c74-9545-2fa145a77a6b",
   "metadata": {},
   "outputs": [
    {
     "name": "stdout",
     "output_type": "stream",
     "text": [
      " * mysql+pymysql://root@localhost/\n",
      "24 rows affected.\n"
     ]
    },
    {
     "data": {
      "image/png": "[encoded data removed]",
      "text/plain": [
       "<Figure size 720x360 with 1 Axes>"
      ]
     },
     "metadata": {
      "needs_background": "light"
     },
     "output_type": "display_data"
    }
   ],
   "source": [
    "df = %sql select hour(date) as Hour, \\\n",
    "Count(patient_id) AS Count \\\n",
    "from hospital_er \\\n",
    "group by hour(date) \\\n",
    "order by 2 desc\\\n",
    "\n",
    "figure = plt.figure(figsize=(10, 5))\n",
    "ax = sns.barplot(data=df, x='Hour', y='Count')\n"
   ]
  },
  {
   "cell_type": "markdown",
   "id": "78d15696-fc10-4797-a92c-e5a96c28fca0",
   "metadata": {},
   "source": [
    "## Age Distribution"
   ]
  },
  {
   "cell_type": "code",
   "execution_count": 17,
   "id": "8fdb7d50-dc8c-4b7e-96e5-6e150354ffa4",
   "metadata": {},
   "outputs": [
    {
     "name": "stdout",
     "output_type": "stream",
     "text": [
      " * mysql+pymysql://root@localhost/\n",
      "9216 rows affected.\n"
     ]
    },
    {
     "data": {
      "image/png": "[encoded data removed]",
      "text/plain": [
       "<Figure size 432x288 with 1 Axes>"
      ]
     },
     "metadata": {
      "needs_background": "light"
     },
     "output_type": "display_data"
    }
   ],
   "source": [
    "df = %sql select patient_age as Age \\\n",
    "from hospital_er\n",
    "\n",
    "sns.histplot(df['Age'], kde=True);"
   ]
  },
  {
   "cell_type": "code",
   "execution_count": 18,
   "id": "80341b8f-d862-437b-9fb5-f9f723c2c2e5",
   "metadata": {},
   "outputs": [
    {
     "name": "stdout",
     "output_type": "stream",
     "text": [
      " * mysql+pymysql://root@localhost/\n",
      "1 rows affected.\n"
     ]
    },
    {
     "data": {
      "text/html": [
       "<div>\n",
       "<style scoped>\n",
       "    .dataframe tbody tr th:only-of-type {\n",
       "        vertical-align: middle;\n",
       "    }\n",
       "\n",
       "    .dataframe tbody tr th {\n",
       "        vertical-align: top;\n",
       "    }\n",
       "\n",
       "    .dataframe thead th {\n",
       "        text-align: right;\n",
       "    }\n",
       "</style>\n",
       "<table border=\"1\" class=\"dataframe\">\n",
       "  <thead>\n",
       "    <tr style=\"text-align: right;\">\n",
       "      <th></th>\n",
       "      <th>MaximumAge</th>\n",
       "      <th>MinimumAge</th>\n",
       "      <th>AverageAge</th>\n",
       "    </tr>\n",
       "  </thead>\n",
       "  <tbody>\n",
       "    <tr>\n",
       "      <th>0</th>\n",
       "      <td>79</td>\n",
       "      <td>1</td>\n",
       "      <td>40</td>\n",
       "    </tr>\n",
       "  </tbody>\n",
       "</table>\n",
       "</div>"
      ],
      "text/plain": [
       "   MaximumAge  MinimumAge AverageAge\n",
       "0          79           1         40"
      ]
     },
     "execution_count": 18,
     "metadata": {},
     "output_type": "execute_result"
    }
   ],
   "source": [
    "%%sql\n",
    "select max(patient_age) MaximumAge, \n",
    "min(patient_age) MinimumAge, \n",
    "Round(avg(patient_age), 0) AverageAge\n",
    "from hospital_er"
   ]
  },
  {
   "cell_type": "code",
   "execution_count": null,
   "id": "3b11fdb9-8b13-4376-88e1-b50a5d116934",
   "metadata": {},
   "outputs": [],
   "source": []
  }
 ],
 "metadata": {
  "kernelspec": {
   "display_name": "Python 3 (ipykernel)",
   "language": "python",
   "name": "python3"
  },
  "language_info": {
   "codemirror_mode": {
    "name": "ipython",
    "version": 3
   },
   "file_extension": ".py",
   "mimetype": "text/x-python",
   "name": "python",
   "nbconvert_exporter": "python",
   "pygments_lexer": "ipython3",
   "version": "3.9.7"
  }
 },
 "nbformat": 4,
 "nbformat_minor": 5
}
